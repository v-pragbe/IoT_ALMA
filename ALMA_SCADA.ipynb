{
 "cells": [
  {
   "cell_type": "code",
   "execution_count": 1,
   "id": "73cf10d0",
   "metadata": {},
   "outputs": [],
   "source": [
    "import pandas as pd\n",
    "import numpy as np\n",
    "import time\n",
    "\n",
    "from sklearn.utils import shuffle\n",
    "from sklearn.model_selection import train_test_split\n",
    "\n",
    "import matplotlib.pyplot as plt\n",
    "import seaborn as sns\n",
    "\n",
    "from collections import Counter\n",
    "\n",
    "from river import evaluate\n",
    "from river import metrics\n",
    "from AdaptiveALMA import AdaptiveALMA\n",
    "\n",
    "from river import stream, compose, drift\n",
    "from river import preprocessing\n",
    "from river import linear_model as ln\n",
    "%matplotlib inline"
   ]
  },
  {
   "cell_type": "code",
   "execution_count": 2,
   "id": "f6480439",
   "metadata": {},
   "outputs": [],
   "source": [
    "#Loading the dataset\n",
    "data= pd.read_csv(\"/Users/promisea/Auto_Online_Datasets/wustl-scada-2018.csv\")"
   ]
  },
  {
   "cell_type": "code",
   "execution_count": 3,
   "id": "8ca53dac-5834-4f57-82e0-82270442e906",
   "metadata": {},
   "outputs": [
    {
     "data": {
      "text/html": [
       "<div>\n",
       "<style scoped>\n",
       "    .dataframe tbody tr th:only-of-type {\n",
       "        vertical-align: middle;\n",
       "    }\n",
       "\n",
       "    .dataframe tbody tr th {\n",
       "        vertical-align: top;\n",
       "    }\n",
       "\n",
       "    .dataframe thead th {\n",
       "        text-align: right;\n",
       "    }\n",
       "</style>\n",
       "<table border=\"1\" class=\"dataframe\">\n",
       "  <thead>\n",
       "    <tr style=\"text-align: right;\">\n",
       "      <th></th>\n",
       "      <th>Sport</th>\n",
       "      <th>TotPkts</th>\n",
       "      <th>TotBytes</th>\n",
       "      <th>SrcPkts</th>\n",
       "      <th>DstPkts</th>\n",
       "      <th>SrcBytes</th>\n",
       "      <th>Target</th>\n",
       "    </tr>\n",
       "  </thead>\n",
       "  <tbody>\n",
       "    <tr>\n",
       "      <th>0</th>\n",
       "      <td>143</td>\n",
       "      <td>2</td>\n",
       "      <td>180</td>\n",
       "      <td>2</td>\n",
       "      <td>0</td>\n",
       "      <td>180</td>\n",
       "      <td>0</td>\n",
       "    </tr>\n",
       "    <tr>\n",
       "      <th>1</th>\n",
       "      <td>68</td>\n",
       "      <td>2</td>\n",
       "      <td>684</td>\n",
       "      <td>2</td>\n",
       "      <td>0</td>\n",
       "      <td>684</td>\n",
       "      <td>0</td>\n",
       "    </tr>\n",
       "    <tr>\n",
       "      <th>2</th>\n",
       "      <td>0</td>\n",
       "      <td>1</td>\n",
       "      <td>60</td>\n",
       "      <td>1</td>\n",
       "      <td>0</td>\n",
       "      <td>60</td>\n",
       "      <td>0</td>\n",
       "    </tr>\n",
       "    <tr>\n",
       "      <th>3</th>\n",
       "      <td>54949</td>\n",
       "      <td>10</td>\n",
       "      <td>628</td>\n",
       "      <td>4</td>\n",
       "      <td>6</td>\n",
       "      <td>248</td>\n",
       "      <td>0</td>\n",
       "    </tr>\n",
       "    <tr>\n",
       "      <th>4</th>\n",
       "      <td>54943</td>\n",
       "      <td>8</td>\n",
       "      <td>496</td>\n",
       "      <td>4</td>\n",
       "      <td>4</td>\n",
       "      <td>248</td>\n",
       "      <td>0</td>\n",
       "    </tr>\n",
       "    <tr>\n",
       "      <th>...</th>\n",
       "      <td>...</td>\n",
       "      <td>...</td>\n",
       "      <td>...</td>\n",
       "      <td>...</td>\n",
       "      <td>...</td>\n",
       "      <td>...</td>\n",
       "      <td>...</td>\n",
       "    </tr>\n",
       "    <tr>\n",
       "      <th>7037978</th>\n",
       "      <td>49317</td>\n",
       "      <td>14</td>\n",
       "      <td>904</td>\n",
       "      <td>8</td>\n",
       "      <td>6</td>\n",
       "      <td>520</td>\n",
       "      <td>0</td>\n",
       "    </tr>\n",
       "    <tr>\n",
       "      <th>7037979</th>\n",
       "      <td>49318</td>\n",
       "      <td>14</td>\n",
       "      <td>904</td>\n",
       "      <td>8</td>\n",
       "      <td>6</td>\n",
       "      <td>520</td>\n",
       "      <td>0</td>\n",
       "    </tr>\n",
       "    <tr>\n",
       "      <th>7037980</th>\n",
       "      <td>49319</td>\n",
       "      <td>12</td>\n",
       "      <td>780</td>\n",
       "      <td>8</td>\n",
       "      <td>4</td>\n",
       "      <td>520</td>\n",
       "      <td>0</td>\n",
       "    </tr>\n",
       "    <tr>\n",
       "      <th>7037981</th>\n",
       "      <td>49320</td>\n",
       "      <td>12</td>\n",
       "      <td>780</td>\n",
       "      <td>8</td>\n",
       "      <td>4</td>\n",
       "      <td>520</td>\n",
       "      <td>0</td>\n",
       "    </tr>\n",
       "    <tr>\n",
       "      <th>7037982</th>\n",
       "      <td>132186</td>\n",
       "      <td>82169</td>\n",
       "      <td>1655422536</td>\n",
       "      <td>82169</td>\n",
       "      <td>4585</td>\n",
       "      <td>5939202</td>\n",
       "      <td>0</td>\n",
       "    </tr>\n",
       "  </tbody>\n",
       "</table>\n",
       "<p>7037983 rows × 7 columns</p>\n",
       "</div>"
      ],
      "text/plain": [
       "          Sport  TotPkts    TotBytes  SrcPkts  DstPkts  SrcBytes  Target\n",
       "0           143        2         180        2        0       180       0\n",
       "1            68        2         684        2        0       684       0\n",
       "2             0        1          60        1        0        60       0\n",
       "3         54949       10         628        4        6       248       0\n",
       "4         54943        8         496        4        4       248       0\n",
       "...         ...      ...         ...      ...      ...       ...     ...\n",
       "7037978   49317       14         904        8        6       520       0\n",
       "7037979   49318       14         904        8        6       520       0\n",
       "7037980   49319       12         780        8        4       520       0\n",
       "7037981   49320       12         780        8        4       520       0\n",
       "7037982  132186    82169  1655422536    82169     4585   5939202       0\n",
       "\n",
       "[7037983 rows x 7 columns]"
      ]
     },
     "execution_count": 3,
     "metadata": {},
     "output_type": "execute_result"
    }
   ],
   "source": [
    "data"
   ]
  },
  {
   "cell_type": "code",
   "execution_count": 4,
   "id": "aacea3f8-6a2c-479c-ab6d-73ba984193c8",
   "metadata": {},
   "outputs": [
    {
     "name": "stdout",
     "output_type": "stream",
     "text": [
      "Original dataset shape Counter({0: 6634581, 1: 403402})\n"
     ]
    }
   ],
   "source": [
    "print('Original dataset shape %s' % Counter(data['Target']))"
   ]
  },
  {
   "cell_type": "code",
   "execution_count": 5,
   "id": "314ac01d-3d26-441a-bd7d-e99762913548",
   "metadata": {},
   "outputs": [],
   "source": [
    "normal_drop = data[data['Target'] == 0]"
   ]
  },
  {
   "cell_type": "code",
   "execution_count": 6,
   "id": "381abb8b-e76e-4830-8e3d-17de2e3f0952",
   "metadata": {},
   "outputs": [],
   "source": [
    "attack_drop = data[data['Target'] == 1]"
   ]
  },
  {
   "cell_type": "code",
   "execution_count": 7,
   "id": "4b1eddb2-6b13-4990-bfb0-19d1d08a8d8d",
   "metadata": {},
   "outputs": [],
   "source": [
    "attack_to_remove = attack_drop[:353402]"
   ]
  },
  {
   "cell_type": "code",
   "execution_count": 8,
   "id": "3991edaf-af94-4139-b0cc-7caebcbc66b2",
   "metadata": {},
   "outputs": [],
   "source": [
    "normal_to_remove = normal_drop[:6584581]"
   ]
  },
  {
   "cell_type": "code",
   "execution_count": 9,
   "id": "6faebca8-4ed7-4d25-836a-b8e5a23a9253",
   "metadata": {},
   "outputs": [],
   "source": [
    "data = data.drop(normal_to_remove.index)"
   ]
  },
  {
   "cell_type": "code",
   "execution_count": 10,
   "id": "29e7d06b-cb80-49a5-9dcb-422b95463342",
   "metadata": {},
   "outputs": [],
   "source": [
    "data = data.drop(attack_to_remove.index)"
   ]
  },
  {
   "cell_type": "code",
   "execution_count": 11,
   "id": "33e53ddd-7e13-477d-98b8-ad505033ca87",
   "metadata": {},
   "outputs": [
    {
     "data": {
      "text/plain": [
       "(100000, 7)"
      ]
     },
     "execution_count": 11,
     "metadata": {},
     "output_type": "execute_result"
    }
   ],
   "source": [
    "data.shape"
   ]
  },
  {
   "cell_type": "code",
   "execution_count": 12,
   "id": "8f60c5e5-e4ae-4abc-8594-fa6d342168d8",
   "metadata": {},
   "outputs": [],
   "source": [
    "data.to_csv('scada_modified.csv', index=False)"
   ]
  },
  {
   "cell_type": "code",
   "execution_count": 13,
   "id": "0a0cc07c",
   "metadata": {},
   "outputs": [],
   "source": [
    "X = data.drop(['Target'], axis=1)\n",
    "y = data['Target']"
   ]
  },
  {
   "cell_type": "code",
   "execution_count": 14,
   "id": "6081a429-79dc-4b66-8eda-bf9f103f457e",
   "metadata": {},
   "outputs": [
    {
     "name": "stdout",
     "output_type": "stream",
     "text": [
      "Original dataset shape Counter({1: 50000, 0: 50000})\n"
     ]
    }
   ],
   "source": [
    "print('Original dataset shape %s' % Counter(y))"
   ]
  },
  {
   "cell_type": "code",
   "execution_count": 15,
   "id": "0aa0dc8e-08df-4170-8aa6-c5fd7329158f",
   "metadata": {},
   "outputs": [],
   "source": [
    "X, y = shuffle(X, y, random_state=42)"
   ]
  },
  {
   "cell_type": "code",
   "execution_count": 16,
   "id": "fd8da208-0d68-447d-bffe-3753d5a1580a",
   "metadata": {},
   "outputs": [],
   "source": [
    "dataset = stream.iter_pandas(X, y)"
   ]
  },
  {
   "cell_type": "code",
   "execution_count": 17,
   "id": "7e95fd13-3ea1-4b37-b2b6-43aec28fe207",
   "metadata": {},
   "outputs": [],
   "source": [
    "ALMA = compose.Pipeline(\n",
    "    preprocessing.StandardScaler(),\n",
    "    ln.ALMAClassifier()\n",
    ")"
   ]
  },
  {
   "cell_type": "code",
   "execution_count": 18,
   "id": "986293d1-4a91-4386-8b3f-76f60a1e949a",
   "metadata": {},
   "outputs": [],
   "source": [
    "dataset = stream.iter_pandas(X, y)"
   ]
  },
  {
   "cell_type": "code",
   "execution_count": 19,
   "id": "51e77c7c-3742-4641-b7be-6feffdee8786",
   "metadata": {},
   "outputs": [],
   "source": [
    "#Passing the evalaution metrics into a variable\n",
    "report = metrics.ClassificationReport()"
   ]
  },
  {
   "cell_type": "code",
   "execution_count": 20,
   "id": "934cd6a2-286f-432e-ae2d-32111b9ff9f9",
   "metadata": {},
   "outputs": [
    {
     "name": "stdout",
     "output_type": "stream",
     "text": [
      "[50,000]            Precision   Recall   F1       Support  \n",
      "                                                  \n",
      "       0      96.43%   97.36%   96.89%     24966  \n",
      "       1      97.34%   96.40%   96.87%     25034  \n",
      "                                                  \n",
      "   Macro      96.88%   96.88%   96.88%            \n",
      "   Micro      96.88%   96.88%   96.88%            \n",
      "Weighted      96.88%   96.88%   96.88%            \n",
      "\n",
      "                 96.88% accuracy                   – 00:00:01 – 4.24 KB\n",
      "[100,000]            Precision   Recall   F1       Support  \n",
      "                                                  \n",
      "       0      96.25%   97.07%   96.66%     50000  \n",
      "       1      97.05%   96.21%   96.63%     50000  \n",
      "                                                  \n",
      "   Macro      96.65%   96.64%   96.64%            \n",
      "   Micro      96.64%   96.64%   96.64%            \n",
      "Weighted      96.65%   96.64%   96.64%            \n",
      "\n",
      "                 96.64% accuracy                   – 00:00:02 – 4.24 KB\n",
      "CPU times: user 2.7 s, sys: 14 ms, total: 2.72 s\n",
      "Wall time: 2.79 s\n"
     ]
    },
    {
     "data": {
      "text/plain": [
       "           Precision   Recall   F1       Support  \n",
       "                                                  \n",
       "       0      96.25%   97.07%   96.66%     50000  \n",
       "       1      97.05%   96.21%   96.63%     50000  \n",
       "                                                  \n",
       "   Macro      96.65%   96.64%   96.64%            \n",
       "   Micro      96.64%   96.64%   96.64%            \n",
       "Weighted      96.65%   96.64%   96.64%            \n",
       "\n",
       "                 96.64% accuracy                  "
      ]
     },
     "execution_count": 20,
     "metadata": {},
     "output_type": "execute_result"
    }
   ],
   "source": [
    "%%time\n",
    "\n",
    "evaluate.progressive_val_score(dataset, ALMA, report, print_every=50000, show_time=True, show_memory=True)"
   ]
  },
  {
   "cell_type": "code",
   "execution_count": 40,
   "id": "52663509-1928-4507-95a6-626754d9c9aa",
   "metadata": {},
   "outputs": [],
   "source": [
    "dataset = stream.iter_pandas(X, y)"
   ]
  },
  {
   "cell_type": "code",
   "execution_count": 41,
   "id": "05530178-e231-44a9-93d2-f25d5eef1d1e",
   "metadata": {},
   "outputs": [],
   "source": [
    "model = compose.Pipeline(\n",
    "    preprocessing.StandardScaler(),\n",
    "    AdaptiveALMA()\n",
    ")"
   ]
  },
  {
   "cell_type": "code",
   "execution_count": 42,
   "id": "b9558cb2-1d18-4ba9-b8c5-7b96510d5a38",
   "metadata": {},
   "outputs": [
    {
     "name": "stdout",
     "output_type": "stream",
     "text": [
      "[50,000]            Precision   Recall   F1       Support  \n",
      "                                                  \n",
      "       0      95.47%   98.09%   96.76%     82487  \n",
      "       1      98.03%   95.35%   96.67%     82513  \n",
      "                                                  \n",
      "   Macro      96.75%   96.72%   96.72%            \n",
      "   Micro      96.72%   96.72%   96.72%            \n",
      "Weighted      96.75%   96.72%   96.72%            \n",
      "\n",
      "                 96.72% accuracy                   – 00:00:01 – 11.06 KB\n",
      "[100,000]            Precision   Recall   F1       Support  \n",
      "                                                  \n",
      "       0      95.83%   98.34%   97.07%    107521  \n",
      "       1      98.30%   95.72%   96.99%    107479  \n",
      "                                                  \n",
      "   Macro      97.06%   97.03%   97.03%            \n",
      "   Micro      97.03%   97.03%   97.03%            \n",
      "Weighted      97.06%   97.03%   97.03%            \n",
      "\n",
      "                 97.03% accuracy                   – 00:00:03 – 10.99 KB\n",
      "CPU times: user 3.1 s, sys: 11.2 ms, total: 3.11 s\n",
      "Wall time: 3.12 s\n"
     ]
    },
    {
     "data": {
      "text/plain": [
       "           Precision   Recall   F1       Support  \n",
       "                                                  \n",
       "       0      95.83%   98.34%   97.07%    107521  \n",
       "       1      98.30%   95.72%   96.99%    107479  \n",
       "                                                  \n",
       "   Macro      97.06%   97.03%   97.03%            \n",
       "   Micro      97.03%   97.03%   97.03%            \n",
       "Weighted      97.06%   97.03%   97.03%            \n",
       "\n",
       "                 97.03% accuracy                  "
      ]
     },
     "execution_count": 42,
     "metadata": {},
     "output_type": "execute_result"
    }
   ],
   "source": [
    "%%time\n",
    "\n",
    "evaluate.progressive_val_score(dataset, model, report, print_every=50000, show_time=True, show_memory=True)"
   ]
  },
  {
   "cell_type": "code",
   "execution_count": 24,
   "id": "920e96bc-8ea1-49a2-ba41-34cdca365114",
   "metadata": {},
   "outputs": [],
   "source": [
    "dataset = stream.iter_pandas(X, y)"
   ]
  },
  {
   "cell_type": "code",
   "execution_count": 25,
   "id": "a9645783-4811-4dde-81a6-92c282b6ae36",
   "metadata": {},
   "outputs": [],
   "source": [
    "def plot_performance(dataset, metric, models):\n",
    "    metric_name = metric.__class__.__name__\n",
    "    \n",
    "    # Creating a single plot for accuracy\n",
    "    fig, ax = plt.subplots(figsize=(10, 4), dpi=300)\n",
    "    threshold_reached_step = None  # To store the step where accuracy reaches 75%\n",
    "\n",
    "    for model_name, model in models.items():\n",
    "        steps = []\n",
    "        accuracies = []\n",
    "\n",
    "        for checkpoint in evaluate.iter_progressive_val_score(\n",
    "            dataset, model, metric, measure_time=False, measure_memory=False, step=20\n",
    "        ):\n",
    "            current_step = checkpoint[\"Step\"]\n",
    "            current_accuracy = checkpoint[metric_name].get()\n",
    "            steps.append(current_step)\n",
    "            accuracies.append(current_accuracy)\n",
    "\n",
    "            # Check if the accuracy reaches 75% for the first time\n",
    "            if current_accuracy >= 0.75 and threshold_reached_step is None:\n",
    "                threshold_reached_step = current_step\n",
    "\n",
    "        ax.plot(steps, accuracies, label=model_name)\n",
    "\n",
    "        # Draw a vertical red line and annotate if the threshold is reached\n",
    "        if threshold_reached_step:\n",
    "            ax.axvline(x=threshold_reached_step, color='red', linestyle='--')\n",
    "            ax.annotate(f'{threshold_reached_step} samples', xy=(threshold_reached_step, 0.75),\n",
    "                        xytext=(threshold_reached_step + 50, 0.80),\n",
    "                        arrowprops=dict(facecolor='blue', shrink=0.05),\n",
    "                        horizontalalignment='left', verticalalignment='top')\n",
    "\n",
    "    ax.set_ylabel('Accuracy', fontweight='bold')\n",
    "    ax.set_xlabel('# Samples', fontweight='bold')\n",
    "    ax.grid(True)\n",
    "    ax.legend(\n",
    "        loc='upper center', bbox_to_anchor=(0.5, 1.15),\n",
    "        ncol=1, fancybox=True, shadow=True\n",
    "    )\n",
    "    \n",
    "    # Apply bold formatting directly to tick labels\n",
    "    for label in ax.get_xticklabels() + ax.get_yticklabels():\n",
    "        label.set_fontweight('bold')\n",
    "\n",
    "    plt.tight_layout()\n",
    "    plt.savefig('Performance_ALMA_SCADA.png')\n",
    "    plt.close()\n",
    "\n",
    "    return fig"
   ]
  },
  {
   "cell_type": "code",
   "execution_count": 26,
   "id": "b492ab6c-e4aa-4aff-aed0-ddea5b054d07",
   "metadata": {},
   "outputs": [
    {
     "data": {
      "image/png": "[encoded data removed]",
      "text/plain": [
       "<Figure size 3000x1200 with 1 Axes>"
      ]
     },
     "execution_count": 26,
     "metadata": {},
     "output_type": "execute_result"
    }
   ],
   "source": [
    "plot_performance(\n",
    "    dataset,\n",
    "    metrics.Accuracy(),\n",
    "    {\n",
    "        \"Real-time Performance of Adaptive ALMA on the SCADA Dataset\": (\n",
    "            preprocessing.StandardScaler() | AdaptiveALMA()\n",
    "        )\n",
    "    }\n",
    ")"
   ]
  },
  {
   "cell_type": "code",
   "execution_count": 27,
   "id": "c6d32daf-480c-4caf-a6bc-0d30f62ea2ee",
   "metadata": {},
   "outputs": [
    {
     "name": "stdout",
     "output_type": "stream",
     "text": [
      "Original dataset shape  Counter({1: 50000, 0: 50000})\n"
     ]
    }
   ],
   "source": [
    "#Loading the dataset\n",
    "data= pd.read_csv(\"scada_modified.csv\")\n",
    "print('Original dataset shape  %s' % Counter(data['Target']))\n",
    "X = data.drop(['Target'], axis=1)\n",
    "y = data['Target']\n",
    "X, y = shuffle(X, y, random_state=42)"
   ]
  },
  {
   "cell_type": "code",
   "execution_count": 28,
   "id": "be24cb9a-865b-4cdb-9919-7d8b001e1725",
   "metadata": {},
   "outputs": [],
   "source": [
    "X_train, X_test, y_train, y_test = train_test_split(X, y, test_size=0.95, random_state=100, stratify=data['Target'])\n",
    "\n",
    "\n",
    "model = compose.Pipeline(\n",
    "    preprocessing.StandardScaler(),\n",
    "    AdaptiveALMA()\n",
    ")\n",
    "\n",
    "dataset = stream.iter_pandas(X_train, y_train)\n",
    "\n",
    "#Passing the evalaution metrics into a variable\n",
    "report = metrics.ClassificationReport()"
   ]
  },
  {
   "cell_type": "code",
   "execution_count": 29,
   "id": "517318af-3fde-4121-8f27-a9fdc4be980a",
   "metadata": {},
   "outputs": [
    {
     "name": "stdout",
     "output_type": "stream",
     "text": [
      "CPU times: user 154 ms, sys: 1.55 ms, total: 156 ms\n",
      "Wall time: 156 ms\n"
     ]
    },
    {
     "data": {
      "text/plain": [
       "           Precision   Recall   F1       Support  \n",
       "                                                  \n",
       "       0      96.46%   99.22%   97.82%      2447  \n",
       "       1      99.23%   96.51%   97.86%      2553  \n",
       "                                                  \n",
       "   Macro      97.85%   97.87%   97.84%            \n",
       "   Micro      97.84%   97.84%   97.84%            \n",
       "Weighted      97.88%   97.84%   97.84%            \n",
       "\n",
       "                 97.84% accuracy                  "
      ]
     },
     "execution_count": 29,
     "metadata": {},
     "output_type": "execute_result"
    }
   ],
   "source": [
    "%%time\n",
    "\n",
    "evaluate.progressive_val_score(dataset, model, report, print_every=50000, show_time=True, show_memory=True)"
   ]
  },
  {
   "cell_type": "code",
   "execution_count": 30,
   "id": "c043a49d-4143-48f1-9142-6d810955f133",
   "metadata": {},
   "outputs": [
    {
     "name": "stdout",
     "output_type": "stream",
     "text": [
      "Printing the results for 95% unseen samples\n",
      "Accuracy: 0.9814526315789474\n",
      "Precision: 0.9922210011420691\n",
      "Recall: 0.9704723164794402\n",
      "F1_Score: 0.981226159780084\n"
     ]
    }
   ],
   "source": [
    "# Initialize metrics\n",
    "Acc = metrics.Accuracy()\n",
    "Pre = metrics.Precision()\n",
    "Rec = metrics.Recall()\n",
    "F1 = metrics.F1()\n",
    "\n",
    "# Iterate over the test stream and update metrics\n",
    "for xi, yi in stream.iter_pandas(X_test, y_test):\n",
    "    y_pred = model.predict_one(xi)\n",
    "    Acc.update(yi, y_pred)\n",
    "    Pre.update(yi, y_pred)\n",
    "    Rec.update(yi, y_pred)\n",
    "    F1.update(yi, y_pred)\n",
    "\n",
    "# Retrieve final metric values\n",
    "Accuracy = Acc.get()\n",
    "Precision = Pre.get()\n",
    "Recall = Rec.get()\n",
    "F1_Score = F1.get()\n",
    "\n",
    "# Output the results\n",
    "print(\"Printing the results for 95% unseen samples\")\n",
    "print(\"Accuracy:\", Accuracy)\n",
    "print(\"Precision:\", Precision)\n",
    "print(\"Recall:\", Recall)\n",
    "print(\"F1_Score:\", F1_Score)"
   ]
  },
  {
   "cell_type": "code",
   "execution_count": 31,
   "id": "0860a77d-2a05-40f9-bcf8-5a8399ede76d",
   "metadata": {},
   "outputs": [],
   "source": [
    "X_train, X_test, y_train, y_test = train_test_split(X, y, test_size=0.90, random_state=100, stratify=data['Target'])\n",
    "\n",
    "\n",
    "model = compose.Pipeline(\n",
    "    preprocessing.StandardScaler(),\n",
    "    AdaptiveALMA()\n",
    ")\n",
    "\n",
    "dataset = stream.iter_pandas(X_train, y_train)\n",
    "\n",
    "#Passing the evalaution metrics into a variable\n",
    "report = metrics.ClassificationReport()"
   ]
  },
  {
   "cell_type": "code",
   "execution_count": 32,
   "id": "29c2f67b-88db-4fa9-a730-9a6a90e97639",
   "metadata": {},
   "outputs": [
    {
     "name": "stdout",
     "output_type": "stream",
     "text": [
      "CPU times: user 328 ms, sys: 7.93 ms, total: 336 ms\n",
      "Wall time: 331 ms\n"
     ]
    },
    {
     "data": {
      "text/plain": [
       "           Precision   Recall   F1       Support  \n",
       "                                                  \n",
       "       0      77.50%   84.47%   80.83%      4978  \n",
       "       1      83.10%   75.69%   79.22%      5022  \n",
       "                                                  \n",
       "   Macro      80.30%   80.08%   80.03%            \n",
       "   Micro      80.06%   80.06%   80.06%            \n",
       "Weighted      80.31%   80.06%   80.02%            \n",
       "\n",
       "                 80.06% accuracy                  "
      ]
     },
     "execution_count": 32,
     "metadata": {},
     "output_type": "execute_result"
    }
   ],
   "source": [
    "%%time\n",
    "\n",
    "evaluate.progressive_val_score(dataset, model, report, print_every=50000, show_time=True, show_memory=True)"
   ]
  },
  {
   "cell_type": "code",
   "execution_count": 33,
   "id": "4b20f459-756e-4aad-ab3e-51b0badcaf74",
   "metadata": {},
   "outputs": [
    {
     "name": "stdout",
     "output_type": "stream",
     "text": [
      "Printing the results for 90% unseen samples\n",
      "Accuracy: 0.8169222222222222\n",
      "Precision: 0.8627835340240829\n",
      "Recall: 0.7535017119480635\n",
      "F1_Score: 0.8044481895109128\n"
     ]
    }
   ],
   "source": [
    "# Initialize metrics\n",
    "Acc = metrics.Accuracy()\n",
    "Pre = metrics.Precision()\n",
    "Rec = metrics.Recall()\n",
    "F1 = metrics.F1()\n",
    "\n",
    "# Iterate over the test stream and update metrics\n",
    "for xi, yi in stream.iter_pandas(X_test, y_test):\n",
    "    y_pred = model.predict_one(xi)\n",
    "    Acc.update(yi, y_pred)\n",
    "    Pre.update(yi, y_pred)\n",
    "    Rec.update(yi, y_pred)\n",
    "    F1.update(yi, y_pred)\n",
    "\n",
    "# Retrieve final metric values\n",
    "Accuracy = Acc.get()\n",
    "Precision = Pre.get()\n",
    "Recall = Rec.get()\n",
    "F1_Score = F1.get()\n",
    "\n",
    "# Output the results\n",
    "print(\"Printing the results for 90% unseen samples\")\n",
    "print(\"Accuracy:\", Accuracy)\n",
    "print(\"Precision:\", Precision)\n",
    "print(\"Recall:\", Recall)\n",
    "print(\"F1_Score:\", F1_Score)"
   ]
  },
  {
   "cell_type": "code",
   "execution_count": 34,
   "id": "24253a85-818d-42c9-9454-85235228f7f0",
   "metadata": {},
   "outputs": [],
   "source": [
    "X_train, X_test, y_train, y_test = train_test_split(X, y, test_size=0.85, random_state=100, stratify=data['Target'])\n",
    "\n",
    "\n",
    "model = compose.Pipeline(\n",
    "    preprocessing.StandardScaler(),\n",
    "    AdaptiveALMA()\n",
    ")\n",
    "\n",
    "dataset = stream.iter_pandas(X_train, y_train)\n",
    "\n",
    "#Passing the evalaution metrics into a variable\n",
    "report = metrics.ClassificationReport()"
   ]
  },
  {
   "cell_type": "code",
   "execution_count": 35,
   "id": "e67cd643-5646-4b35-8a3a-3381d4b6b95a",
   "metadata": {},
   "outputs": [
    {
     "name": "stdout",
     "output_type": "stream",
     "text": [
      "CPU times: user 493 ms, sys: 10.8 ms, total: 504 ms\n",
      "Wall time: 499 ms\n"
     ]
    },
    {
     "data": {
      "text/plain": [
       "           Precision   Recall   F1       Support  \n",
       "                                                  \n",
       "       0      79.09%   87.70%   83.17%      7521  \n",
       "       1      86.11%   76.68%   81.12%      7479  \n",
       "                                                  \n",
       "   Macro      82.60%   82.19%   82.15%            \n",
       "   Micro      82.21%   82.21%   82.21%            \n",
       "Weighted      82.59%   82.21%   82.15%            \n",
       "\n",
       "                 82.21% accuracy                  "
      ]
     },
     "execution_count": 35,
     "metadata": {},
     "output_type": "execute_result"
    }
   ],
   "source": [
    "%%time\n",
    "\n",
    "evaluate.progressive_val_score(dataset, model, report, print_every=50000, show_time=True, show_memory=True)"
   ]
  },
  {
   "cell_type": "code",
   "execution_count": 36,
   "id": "e5dd3757-ef7c-480a-a5c1-7d61387acc8c",
   "metadata": {},
   "outputs": [
    {
     "name": "stdout",
     "output_type": "stream",
     "text": [
      "Printing the results for 85% unseen samples\n",
      "Accuracy: 0.8414823529411765\n",
      "Precision: 0.8999091334636672\n",
      "Recall: 0.7686084522941605\n",
      "F1_Score: 0.8290925695730486\n"
     ]
    }
   ],
   "source": [
    "# Initialize metrics\n",
    "Acc = metrics.Accuracy()\n",
    "Pre = metrics.Precision()\n",
    "Rec = metrics.Recall()\n",
    "F1 = metrics.F1()\n",
    "\n",
    "# Iterate over the test stream and update metrics\n",
    "for xi, yi in stream.iter_pandas(X_test, y_test):\n",
    "    y_pred = model.predict_one(xi)\n",
    "    Acc.update(yi, y_pred)\n",
    "    Pre.update(yi, y_pred)\n",
    "    Rec.update(yi, y_pred)\n",
    "    F1.update(yi, y_pred)\n",
    "\n",
    "# Retrieve final metric values\n",
    "Accuracy = Acc.get()\n",
    "Precision = Pre.get()\n",
    "Recall = Rec.get()\n",
    "F1_Score = F1.get()\n",
    "\n",
    "# Output the results\n",
    "print(\"Printing the results for 85% unseen samples\")\n",
    "print(\"Accuracy:\", Accuracy)\n",
    "print(\"Precision:\", Precision)\n",
    "print(\"Recall:\", Recall)\n",
    "print(\"F1_Score:\", F1_Score)"
   ]
  },
  {
   "cell_type": "code",
   "execution_count": null,
   "id": "c7a9bc6c-0981-46c1-9138-dd0650c791aa",
   "metadata": {},
   "outputs": [],
   "source": []
  }
 ],
 "metadata": {
  "kernelspec": {
   "display_name": "river",
   "language": "python",
   "name": "river"
  },
  "language_info": {
   "codemirror_mode": {
    "name": "ipython",
    "version": 3
   },
   "file_extension": ".py",
   "mimetype": "text/x-python",
   "name": "python",
   "nbconvert_exporter": "python",
   "pygments_lexer": "ipython3",
   "version": "3.9.18"
  }
 },
 "nbformat": 4,
 "nbformat_minor": 5
}
